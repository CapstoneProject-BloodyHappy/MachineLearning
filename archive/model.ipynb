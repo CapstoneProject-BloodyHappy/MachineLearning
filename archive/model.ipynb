{
  "nbformat": 4,
  "nbformat_minor": 0,
  "metadata": {
    "colab": {
      "provenance": [],
      "gpuType": "T4"
    },
    "kernelspec": {
      "name": "python3",
      "display_name": "Python 3"
    },
    "language_info": {
      "name": "python"
    },
    "accelerator": "GPU"
  },
  "cells": [
    {
      "cell_type": "code",
      "execution_count": 1,
      "metadata": {
        "id": "b0_S8zfhGlzD"
      },
      "outputs": [],
      "source": [
        "import tensorflow as tf\n",
        "from keras.preprocessing.image import ImageDataGenerator\n",
        "import matplotlib.pyplot as plt\n",
        "import matplotlib.image as mpimg\n",
        "import numpy as np"
      ]
    },
    {
      "cell_type": "code",
      "source": [
        "from google.colab import drive\n",
        "drive.mount('/content/drive')"
      ],
      "metadata": {
        "colab": {
          "base_uri": "https://localhost:8080/",
          "height": 365
        },
        "id": "UtFp0IU2HCiF",
        "outputId": "c1c0abc5-e28b-48bc-f43f-0ad26fe76556"
      },
      "execution_count": 2,
      "outputs": [
        {
          "output_type": "error",
          "ename": "MessageError",
          "evalue": "ignored",
          "traceback": [
            "\u001b[0;31m---------------------------------------------------------------------------\u001b[0m",
            "\u001b[0;31mMessageError\u001b[0m                              Traceback (most recent call last)",
            "\u001b[0;32m<ipython-input-2-d5df0069828e>\u001b[0m in \u001b[0;36m<cell line: 2>\u001b[0;34m()\u001b[0m\n\u001b[1;32m      1\u001b[0m \u001b[0;32mfrom\u001b[0m \u001b[0mgoogle\u001b[0m\u001b[0;34m.\u001b[0m\u001b[0mcolab\u001b[0m \u001b[0;32mimport\u001b[0m \u001b[0mdrive\u001b[0m\u001b[0;34m\u001b[0m\u001b[0;34m\u001b[0m\u001b[0m\n\u001b[0;32m----> 2\u001b[0;31m \u001b[0mdrive\u001b[0m\u001b[0;34m.\u001b[0m\u001b[0mmount\u001b[0m\u001b[0;34m(\u001b[0m\u001b[0;34m'/content/drive'\u001b[0m\u001b[0;34m)\u001b[0m\u001b[0;34m\u001b[0m\u001b[0;34m\u001b[0m\u001b[0m\n\u001b[0m",
            "\u001b[0;32m/usr/local/lib/python3.10/dist-packages/google/colab/drive.py\u001b[0m in \u001b[0;36mmount\u001b[0;34m(mountpoint, force_remount, timeout_ms, readonly)\u001b[0m\n\u001b[1;32m     98\u001b[0m \u001b[0;32mdef\u001b[0m \u001b[0mmount\u001b[0m\u001b[0;34m(\u001b[0m\u001b[0mmountpoint\u001b[0m\u001b[0;34m,\u001b[0m \u001b[0mforce_remount\u001b[0m\u001b[0;34m=\u001b[0m\u001b[0;32mFalse\u001b[0m\u001b[0;34m,\u001b[0m \u001b[0mtimeout_ms\u001b[0m\u001b[0;34m=\u001b[0m\u001b[0;36m120000\u001b[0m\u001b[0;34m,\u001b[0m \u001b[0mreadonly\u001b[0m\u001b[0;34m=\u001b[0m\u001b[0;32mFalse\u001b[0m\u001b[0;34m)\u001b[0m\u001b[0;34m:\u001b[0m\u001b[0;34m\u001b[0m\u001b[0;34m\u001b[0m\u001b[0m\n\u001b[1;32m     99\u001b[0m   \u001b[0;34m\"\"\"Mount your Google Drive at the specified mountpoint path.\"\"\"\u001b[0m\u001b[0;34m\u001b[0m\u001b[0;34m\u001b[0m\u001b[0m\n\u001b[0;32m--> 100\u001b[0;31m   return _mount(\n\u001b[0m\u001b[1;32m    101\u001b[0m       \u001b[0mmountpoint\u001b[0m\u001b[0;34m,\u001b[0m\u001b[0;34m\u001b[0m\u001b[0;34m\u001b[0m\u001b[0m\n\u001b[1;32m    102\u001b[0m       \u001b[0mforce_remount\u001b[0m\u001b[0;34m=\u001b[0m\u001b[0mforce_remount\u001b[0m\u001b[0;34m,\u001b[0m\u001b[0;34m\u001b[0m\u001b[0;34m\u001b[0m\u001b[0m\n",
            "\u001b[0;32m/usr/local/lib/python3.10/dist-packages/google/colab/drive.py\u001b[0m in \u001b[0;36m_mount\u001b[0;34m(mountpoint, force_remount, timeout_ms, ephemeral, readonly)\u001b[0m\n\u001b[1;32m    127\u001b[0m   )\n\u001b[1;32m    128\u001b[0m   \u001b[0;32mif\u001b[0m \u001b[0mephemeral\u001b[0m\u001b[0;34m:\u001b[0m\u001b[0;34m\u001b[0m\u001b[0;34m\u001b[0m\u001b[0m\n\u001b[0;32m--> 129\u001b[0;31m     _message.blocking_request(\n\u001b[0m\u001b[1;32m    130\u001b[0m         \u001b[0;34m'request_auth'\u001b[0m\u001b[0;34m,\u001b[0m \u001b[0mrequest\u001b[0m\u001b[0;34m=\u001b[0m\u001b[0;34m{\u001b[0m\u001b[0;34m'authType'\u001b[0m\u001b[0;34m:\u001b[0m \u001b[0;34m'dfs_ephemeral'\u001b[0m\u001b[0;34m}\u001b[0m\u001b[0;34m,\u001b[0m \u001b[0mtimeout_sec\u001b[0m\u001b[0;34m=\u001b[0m\u001b[0;32mNone\u001b[0m\u001b[0;34m\u001b[0m\u001b[0;34m\u001b[0m\u001b[0m\n\u001b[1;32m    131\u001b[0m     )\n",
            "\u001b[0;32m/usr/local/lib/python3.10/dist-packages/google/colab/_message.py\u001b[0m in \u001b[0;36mblocking_request\u001b[0;34m(request_type, request, timeout_sec, parent)\u001b[0m\n\u001b[1;32m    174\u001b[0m       \u001b[0mrequest_type\u001b[0m\u001b[0;34m,\u001b[0m \u001b[0mrequest\u001b[0m\u001b[0;34m,\u001b[0m \u001b[0mparent\u001b[0m\u001b[0;34m=\u001b[0m\u001b[0mparent\u001b[0m\u001b[0;34m,\u001b[0m \u001b[0mexpect_reply\u001b[0m\u001b[0;34m=\u001b[0m\u001b[0;32mTrue\u001b[0m\u001b[0;34m\u001b[0m\u001b[0;34m\u001b[0m\u001b[0m\n\u001b[1;32m    175\u001b[0m   )\n\u001b[0;32m--> 176\u001b[0;31m   \u001b[0;32mreturn\u001b[0m \u001b[0mread_reply_from_input\u001b[0m\u001b[0;34m(\u001b[0m\u001b[0mrequest_id\u001b[0m\u001b[0;34m,\u001b[0m \u001b[0mtimeout_sec\u001b[0m\u001b[0;34m)\u001b[0m\u001b[0;34m\u001b[0m\u001b[0;34m\u001b[0m\u001b[0m\n\u001b[0m",
            "\u001b[0;32m/usr/local/lib/python3.10/dist-packages/google/colab/_message.py\u001b[0m in \u001b[0;36mread_reply_from_input\u001b[0;34m(message_id, timeout_sec)\u001b[0m\n\u001b[1;32m    101\u001b[0m     ):\n\u001b[1;32m    102\u001b[0m       \u001b[0;32mif\u001b[0m \u001b[0;34m'error'\u001b[0m \u001b[0;32min\u001b[0m \u001b[0mreply\u001b[0m\u001b[0;34m:\u001b[0m\u001b[0;34m\u001b[0m\u001b[0;34m\u001b[0m\u001b[0m\n\u001b[0;32m--> 103\u001b[0;31m         \u001b[0;32mraise\u001b[0m \u001b[0mMessageError\u001b[0m\u001b[0;34m(\u001b[0m\u001b[0mreply\u001b[0m\u001b[0;34m[\u001b[0m\u001b[0;34m'error'\u001b[0m\u001b[0;34m]\u001b[0m\u001b[0;34m)\u001b[0m\u001b[0;34m\u001b[0m\u001b[0;34m\u001b[0m\u001b[0m\n\u001b[0m\u001b[1;32m    104\u001b[0m       \u001b[0;32mreturn\u001b[0m \u001b[0mreply\u001b[0m\u001b[0;34m.\u001b[0m\u001b[0mget\u001b[0m\u001b[0;34m(\u001b[0m\u001b[0;34m'data'\u001b[0m\u001b[0;34m,\u001b[0m \u001b[0;32mNone\u001b[0m\u001b[0;34m)\u001b[0m\u001b[0;34m\u001b[0m\u001b[0;34m\u001b[0m\u001b[0m\n\u001b[1;32m    105\u001b[0m \u001b[0;34m\u001b[0m\u001b[0m\n",
            "\u001b[0;31mMessageError\u001b[0m: Error: credential propagation was unsuccessful"
          ]
        }
      ]
    },
    {
      "cell_type": "code",
      "source": [
        "import tensorflow as tf\n",
        "print(tf.__version__)"
      ],
      "metadata": {
        "id": "3xaixM0NIsBB"
      },
      "execution_count": null,
      "outputs": []
    },
    {
      "cell_type": "code",
      "source": [
        "train_dir = '/content/drive/MyDrive/Bangkit/Capstone/dataset/train'\n",
        "validation_dir = '/content/drive/MyDrive/Bangkit/Capstone/dataset/valid'"
      ],
      "metadata": {
        "id": "rRjZFv-jItpk"
      },
      "execution_count": 5,
      "outputs": []
    },
    {
      "cell_type": "markdown",
      "source": [
        "## Check original image dimension"
      ],
      "metadata": {
        "id": "AalQ5a1SKPTg"
      }
    },
    {
      "cell_type": "code",
      "source": [
        "def get_image_dimensions(image_path):\n",
        "    # Read the image using matplotlib\n",
        "    img = mpimg.imread(image_path)\n",
        "\n",
        "    # Get the dimensions from the shape of the NumPy array\n",
        "    height, width, _ = img.shape\n",
        "\n",
        "    return width, height"
      ],
      "metadata": {
        "id": "QUrhlU2FI-kn"
      },
      "execution_count": 7,
      "outputs": []
    },
    {
      "cell_type": "code",
      "source": [
        "sample_img_paths = ['/content/drive/MyDrive/Bangkit/Capstone/dataset/train/anemic/img_1_120.jpg',\n",
        "                   '/content/drive/MyDrive/Bangkit/Capstone/dataset/train/anemic/img_1_169.jpg',\n",
        "                   '/content/drive/MyDrive/Bangkit/Capstone/dataset/train/non-anemic/img_2_36.jpg']\n",
        "\n",
        "for path in sample_img_paths:\n",
        "    width, height = get_image_dimensions(path)\n",
        "    print(width, height)"
      ],
      "metadata": {
        "colab": {
          "base_uri": "https://localhost:8080/"
        },
        "id": "CZ9BoIoTKmPx",
        "outputId": "8102ed13-18dc-4bfd-c5da-563fc70e7c85"
      },
      "execution_count": 8,
      "outputs": [
        {
          "output_type": "stream",
          "name": "stdout",
          "text": [
            "224 224\n",
            "224 224\n",
            "224 224\n"
          ]
        }
      ]
    },
    {
      "cell_type": "markdown",
      "source": [
        "## List some directories"
      ],
      "metadata": {
        "id": "9K2ZGcr_Mp8w"
      }
    },
    {
      "cell_type": "code",
      "source": [
        "train_dir = '/content/drive/MyDrive/Bangkit/Capstone/dataset/train'\n",
        "validation_dir = '/content/drive/MyDrive/Bangkit/Capstone/dataset/valid'"
      ],
      "metadata": {
        "id": "G88pRzrgMsb1"
      },
      "execution_count": 13,
      "outputs": []
    },
    {
      "cell_type": "code",
      "source": [
        "train_datagen = ImageDataGenerator(\n",
        "    rescale=1./255,\n",
        "    shear_range=0.2,\n",
        "    zoom_range=0.2,\n",
        "    horizontal_flip=True,\n",
        "    rotation_range=20,\n",
        "    width_shift_range=0.1,\n",
        "    height_shift_range=0.1,\n",
        "    brightness_range=[0.9, 1.1],  # Range for random brightness adjustment\n",
        "    channel_shift_range=10,       # Range for random channel shifts\n",
        "    fill_mode='nearest'\n",
        ")"
      ],
      "metadata": {
        "id": "lCec5-TkLXwT"
      },
      "execution_count": 9,
      "outputs": []
    },
    {
      "cell_type": "code",
      "source": [
        "validation_datagen = ImageDataGenerator(rescale=1./255)"
      ],
      "metadata": {
        "id": "YZnAzjR1Mf0n"
      },
      "execution_count": 10,
      "outputs": []
    },
    {
      "cell_type": "code",
      "source": [
        "train_generator = train_datagen.flow_from_directory(\n",
        "    train_dir,\n",
        "    target_size=(200, 200),\n",
        "    batch_size=32,\n",
        "    class_mode='binary'\n",
        ")"
      ],
      "metadata": {
        "colab": {
          "base_uri": "https://localhost:8080/"
        },
        "id": "C8_UCt_rMmHw",
        "outputId": "b3bce791-d58c-4d97-be2d-9f04cc271e39"
      },
      "execution_count": 12,
      "outputs": [
        {
          "output_type": "stream",
          "name": "stdout",
          "text": [
            "Found 127 images belonging to 2 classes.\n"
          ]
        }
      ]
    },
    {
      "cell_type": "code",
      "source": [
        "validation_generator = validation_datagen.flow_from_directory(\n",
        "    validation_dir,\n",
        "    target_size=(200, 200),\n",
        "    batch_size=32,\n",
        "    class_mode='binary'\n",
        ")"
      ],
      "metadata": {
        "colab": {
          "base_uri": "https://localhost:8080/"
        },
        "id": "4dS_bU9PM8jb",
        "outputId": "deebcb1d-269b-4aaf-ccb9-4c5e288f7d0f"
      },
      "execution_count": 14,
      "outputs": [
        {
          "output_type": "stream",
          "name": "stdout",
          "text": [
            "Found 56 images belonging to 2 classes.\n"
          ]
        }
      ]
    },
    {
      "cell_type": "code",
      "source": [
        "model = tf.keras.Sequential([\n",
        "    tf.keras.layers.Conv2D(16, (3, 3), activation='relu', input_shape=(200, 200, 3)),\n",
        "    tf.keras.layers.MaxPooling2D((2, 2)),\n",
        "    tf.keras.layers.Conv2D(32, (3, 3), activation='relu', input_shape=(200, 200, 3)),\n",
        "    tf.keras.layers.MaxPooling2D((2, 2)),\n",
        "    tf.keras.layers.Conv2D(64, (3, 3), activation='relu', input_shape=(200, 200, 3)),\n",
        "    tf.keras.layers.MaxPooling2D((3, 3)),\n",
        "\n",
        "    tf.keras.layers.Flatten(),\n",
        "    tf.keras.layers.Dense(256, activation='relu'),\n",
        "    tf.keras.layers.Dense(32, activation='relu'),\n",
        "    tf.keras.layers.Dense(1, activation='sigmoid')\n",
        "])\n",
        "\n",
        "model.compile(optimizer=tf.keras.optimizers.Adam(),\n",
        "              loss=tf.keras.losses.binary_crossentropy,\n",
        "              metrics=['accuracy'])"
      ],
      "metadata": {
        "id": "x2mdbl29NKS_"
      },
      "execution_count": 32,
      "outputs": []
    },
    {
      "cell_type": "code",
      "source": [
        "model.summary()"
      ],
      "metadata": {
        "colab": {
          "base_uri": "https://localhost:8080/"
        },
        "id": "A8Yu7s6WN-yg",
        "outputId": "07729201-6f5e-4596-9a72-79be24d1fbcf"
      },
      "execution_count": 33,
      "outputs": [
        {
          "output_type": "stream",
          "name": "stdout",
          "text": [
            "Model: \"sequential_5\"\n",
            "_________________________________________________________________\n",
            " Layer (type)                Output Shape              Param #   \n",
            "=================================================================\n",
            " conv2d_18 (Conv2D)          (None, 198, 198, 16)      448       \n",
            "                                                                 \n",
            " max_pooling2d_18 (MaxPooli  (None, 99, 99, 16)        0         \n",
            " ng2D)                                                           \n",
            "                                                                 \n",
            " conv2d_19 (Conv2D)          (None, 97, 97, 32)        4640      \n",
            "                                                                 \n",
            " max_pooling2d_19 (MaxPooli  (None, 48, 48, 32)        0         \n",
            " ng2D)                                                           \n",
            "                                                                 \n",
            " conv2d_20 (Conv2D)          (None, 46, 46, 64)        18496     \n",
            "                                                                 \n",
            " max_pooling2d_20 (MaxPooli  (None, 15, 15, 64)        0         \n",
            " ng2D)                                                           \n",
            "                                                                 \n",
            " flatten_5 (Flatten)         (None, 14400)             0         \n",
            "                                                                 \n",
            " dense_15 (Dense)            (None, 256)               3686656   \n",
            "                                                                 \n",
            " dense_16 (Dense)            (None, 32)                8224      \n",
            "                                                                 \n",
            " dense_17 (Dense)            (None, 1)                 33        \n",
            "                                                                 \n",
            "=================================================================\n",
            "Total params: 3718497 (14.18 MB)\n",
            "Trainable params: 3718497 (14.18 MB)\n",
            "Non-trainable params: 0 (0.00 Byte)\n",
            "_________________________________________________________________\n"
          ]
        }
      ]
    },
    {
      "cell_type": "code",
      "source": [
        "early_stopping = tf.keras.callbacks.EarlyStopping(monitor='val_loss', patience=5, restore_best_weights=True)\n"
      ],
      "metadata": {
        "id": "NGjxtxXbO-Z_"
      },
      "execution_count": 34,
      "outputs": []
    },
    {
      "cell_type": "code",
      "source": [
        "history = model.fit(\n",
        "    train_generator,\n",
        "    epochs=30,  # Use a sufficiently large number of epochs\n",
        "    validation_data=validation_generator,\n",
        "    callbacks=[early_stopping]\n",
        ")"
      ],
      "metadata": {
        "colab": {
          "base_uri": "https://localhost:8080/"
        },
        "id": "nxxPB63_PQDa",
        "outputId": "ee0c203b-890b-4dd1-c1b0-f3d70c579dd5"
      },
      "execution_count": 35,
      "outputs": [
        {
          "output_type": "stream",
          "name": "stdout",
          "text": [
            "Epoch 1/30\n",
            "4/4 [==============================] - 3s 310ms/step - loss: 0.7173 - accuracy: 0.4488 - val_loss: 0.5430 - val_accuracy: 0.6429\n",
            "Epoch 2/30\n",
            "4/4 [==============================] - 2s 460ms/step - loss: 0.4713 - accuracy: 0.8031 - val_loss: 0.4850 - val_accuracy: 0.5714\n",
            "Epoch 3/30\n",
            "4/4 [==============================] - 2s 450ms/step - loss: 0.3768 - accuracy: 0.7953 - val_loss: 0.7534 - val_accuracy: 0.8036\n",
            "Epoch 4/30\n",
            "4/4 [==============================] - 2s 473ms/step - loss: 0.4471 - accuracy: 0.8425 - val_loss: 0.3911 - val_accuracy: 0.7143\n",
            "Epoch 5/30\n",
            "4/4 [==============================] - 3s 788ms/step - loss: 0.3247 - accuracy: 0.8504 - val_loss: 0.3591 - val_accuracy: 0.8393\n",
            "Epoch 6/30\n",
            "4/4 [==============================] - 2s 472ms/step - loss: 0.2913 - accuracy: 0.8819 - val_loss: 0.2351 - val_accuracy: 0.8929\n",
            "Epoch 7/30\n",
            "4/4 [==============================] - 2s 469ms/step - loss: 0.2605 - accuracy: 0.8976 - val_loss: 0.1610 - val_accuracy: 1.0000\n",
            "Epoch 8/30\n",
            "4/4 [==============================] - 2s 540ms/step - loss: 0.2022 - accuracy: 0.8976 - val_loss: 0.1484 - val_accuracy: 0.9286\n",
            "Epoch 9/30\n",
            "4/4 [==============================] - 3s 710ms/step - loss: 0.1427 - accuracy: 0.9528 - val_loss: 0.0821 - val_accuracy: 1.0000\n",
            "Epoch 10/30\n",
            "4/4 [==============================] - 4s 948ms/step - loss: 0.0906 - accuracy: 0.9921 - val_loss: 0.0204 - val_accuracy: 1.0000\n",
            "Epoch 11/30\n",
            "4/4 [==============================] - 3s 695ms/step - loss: 0.0661 - accuracy: 0.9764 - val_loss: 0.0062 - val_accuracy: 1.0000\n",
            "Epoch 12/30\n",
            "4/4 [==============================] - 2s 496ms/step - loss: 0.0235 - accuracy: 1.0000 - val_loss: 0.0024 - val_accuracy: 1.0000\n",
            "Epoch 13/30\n",
            "4/4 [==============================] - 2s 461ms/step - loss: 0.0205 - accuracy: 0.9921 - val_loss: 0.0013 - val_accuracy: 1.0000\n",
            "Epoch 14/30\n",
            "4/4 [==============================] - 3s 770ms/step - loss: 0.0093 - accuracy: 1.0000 - val_loss: 3.1696e-04 - val_accuracy: 1.0000\n",
            "Epoch 15/30\n",
            "4/4 [==============================] - 3s 760ms/step - loss: 0.0030 - accuracy: 1.0000 - val_loss: 3.9732e-04 - val_accuracy: 1.0000\n",
            "Epoch 16/30\n",
            "4/4 [==============================] - 2s 556ms/step - loss: 0.0017 - accuracy: 1.0000 - val_loss: 1.3080e-04 - val_accuracy: 1.0000\n",
            "Epoch 17/30\n",
            "4/4 [==============================] - 2s 485ms/step - loss: 0.0014 - accuracy: 1.0000 - val_loss: 9.0577e-05 - val_accuracy: 1.0000\n",
            "Epoch 18/30\n",
            "4/4 [==============================] - 2s 521ms/step - loss: 4.4438e-04 - accuracy: 1.0000 - val_loss: 2.9834e-05 - val_accuracy: 1.0000\n",
            "Epoch 19/30\n",
            "4/4 [==============================] - 2s 453ms/step - loss: 2.4827e-04 - accuracy: 1.0000 - val_loss: 2.6202e-05 - val_accuracy: 1.0000\n",
            "Epoch 20/30\n",
            "4/4 [==============================] - 2s 650ms/step - loss: 4.1228e-04 - accuracy: 1.0000 - val_loss: 1.6132e-05 - val_accuracy: 1.0000\n",
            "Epoch 21/30\n",
            "4/4 [==============================] - 3s 808ms/step - loss: 1.0221e-04 - accuracy: 1.0000 - val_loss: 1.2178e-05 - val_accuracy: 1.0000\n",
            "Epoch 22/30\n",
            "4/4 [==============================] - 2s 524ms/step - loss: 7.4784e-05 - accuracy: 1.0000 - val_loss: 1.1888e-05 - val_accuracy: 1.0000\n",
            "Epoch 23/30\n",
            "4/4 [==============================] - 2s 466ms/step - loss: 0.0013 - accuracy: 1.0000 - val_loss: 1.1414e-05 - val_accuracy: 1.0000\n",
            "Epoch 24/30\n",
            "4/4 [==============================] - 2s 477ms/step - loss: 7.6271e-04 - accuracy: 1.0000 - val_loss: 1.4973e-04 - val_accuracy: 1.0000\n",
            "Epoch 25/30\n",
            "4/4 [==============================] - 2s 459ms/step - loss: 0.2140 - accuracy: 0.9370 - val_loss: 2.1868 - val_accuracy: 0.4464\n",
            "Epoch 26/30\n",
            "4/4 [==============================] - 3s 814ms/step - loss: 0.6843 - accuracy: 0.8268 - val_loss: 0.5137 - val_accuracy: 0.8393\n",
            "Epoch 27/30\n",
            "4/4 [==============================] - 3s 784ms/step - loss: 0.5144 - accuracy: 0.8661 - val_loss: 0.0706 - val_accuracy: 0.9643\n",
            "Epoch 28/30\n",
            "4/4 [==============================] - 2s 509ms/step - loss: 0.0804 - accuracy: 0.9606 - val_loss: 0.0677 - val_accuracy: 1.0000\n"
          ]
        }
      ]
    },
    {
      "cell_type": "code",
      "source": [
        "with open(\"/content/drive/MyDrive/Bangkit/Capstone/Saved_Model/last_itr.txt\", \"r\") as file:\n",
        "  current_itr = int(file.readline())\n",
        "  print(\"last iteration:\", current_itr)"
      ],
      "metadata": {
        "id": "pR1sz7jOQ9hW",
        "outputId": "6ee41df5-81e0-483e-8aef-11d2c8b1b01a",
        "colab": {
          "base_uri": "https://localhost:8080/"
        }
      },
      "execution_count": 45,
      "outputs": [
        {
          "output_type": "stream",
          "name": "stdout",
          "text": [
            "last iteration: 1\n"
          ]
        }
      ]
    },
    {
      "cell_type": "code",
      "source": [
        "current_itr += 1\n",
        "\n",
        "file_name = f'/content/drive/MyDrive/Bangkit/Capstone/Saved_Model/model_{current_itr}'\n",
        "\n",
        "model.save(file_name)\n",
        "print(file_name, \"saved\")\n",
        "\n",
        "with open(\"/content/drive/MyDrive/Bangkit/Capstone/Saved_Model/last_itr.txt\", \"w\") as file:\n",
        "  file.write(str(current_itr))"
      ],
      "metadata": {
        "id": "DHsntUT4QLgJ"
      },
      "execution_count": 44,
      "outputs": []
    }
  ]
}