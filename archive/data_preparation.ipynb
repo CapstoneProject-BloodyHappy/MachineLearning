{
 "cells": [
  {
   "cell_type": "markdown",
   "metadata": {},
   "source": [
    "# Data Preparation Notebook\n",
    "\n",
    "This notebook is used to split the anemic and non-anemic dataset each into their respective train and validation dataset after shuffling them.\n",
    "\n",
    "Prerequisite action:\n",
    "- The images need to be split into anemic and non-anemic directories in advance. (can be done manually)\n",
    "- Make sure there are no subdirectories below anemic and non-anemic directories\n",
    "\n",
    "This notebook should produce a dataset directory like below\n",
    "\n",
    "```\n",
    "dataset/\n",
    "|-- train/\n",
    "|   |-- anemic/\n",
    "|   |   |-- .jpg\n",
    "|   |   |-- .jpg\n",
    "|   |   |-- ...\n",
    "|   |\n",
    "|   |-- non-anemic/\n",
    "|       |-- .jpg\n",
    "|       |-- .jpg\n",
    "|       |-- ...\n",
    "|\n",
    "|-- valid/\n",
    "|   |-- anemic/\n",
    "|   |   |-- .jpg\n",
    "|   |   |-- .jpg\n",
    "|   |   |-- ...\n",
    "|   |\n",
    "|   |-- non-anemic/\n",
    "|       |-- .jpg\n",
    "|       |-- .jpg\n",
    "|       |-- ...\n",
    "```"
   ]
  },
  {
   "cell_type": "code",
   "execution_count": 1,
   "metadata": {},
   "outputs": [],
   "source": [
    "import os\n",
    "import shutil\n",
    "from random import shuffle"
   ]
  },
  {
   "cell_type": "markdown",
   "metadata": {},
   "source": [
    "## Main Directories"
   ]
  },
  {
   "cell_type": "code",
   "execution_count": 16,
   "metadata": {},
   "outputs": [],
   "source": [
    "anemic_dir = \"./anemic/\"\n",
    "non_anemic_dir = \"./non-anemic/\""
   ]
  },
  {
   "cell_type": "markdown",
   "metadata": {},
   "source": [
    "## Create Dataset Directories"
   ]
  },
  {
   "cell_type": "code",
   "execution_count": 23,
   "metadata": {},
   "outputs": [],
   "source": [
    "dataset_dir = \"./dataset/\"\n",
    "os.mkdir(dataset_dir)"
   ]
  },
  {
   "cell_type": "code",
   "execution_count": 24,
   "metadata": {},
   "outputs": [],
   "source": [
    "for subdir_1 in [\"train/\", \"valid/\"]:\n",
    "    path_1 = os.path.join(dataset_dir, subdir_1)\n",
    "    os.mkdir(path_1)\n",
    "    for subdir_2 in [\"anemic/\", \"non-anemic/\"]:\n",
    "        path_2 = os.path.join(path_1, subdir_2)\n",
    "        os.mkdir(path_2)"
   ]
  },
  {
   "cell_type": "markdown",
   "metadata": {},
   "source": [
    "## List the file paths, shuffle, and split (70% train, 30% validation)"
   ]
  },
  {
   "cell_type": "code",
   "execution_count": 29,
   "metadata": {},
   "outputs": [],
   "source": [
    "anemic_path_list = [os.path.join(anemic_dir, file) for file in os.listdir(anemic_dir)]\n",
    "non_anemic_path_list = [os.path.join(non_anemic_dir, file) for file in os.listdir(non_anemic_dir)]"
   ]
  },
  {
   "cell_type": "code",
   "execution_count": 31,
   "metadata": {},
   "outputs": [],
   "source": [
    "shuffle(anemic_path_list)\n",
    "shuffle(non_anemic_path_list)"
   ]
  },
  {
   "cell_type": "code",
   "execution_count": 32,
   "metadata": {},
   "outputs": [],
   "source": [
    "train_size_anemic = int(len(anemic_path_list) * 0.7)\n",
    "train_size_non_anemic = int(len(non_anemic_path_list) * 0.7)"
   ]
  },
  {
   "cell_type": "code",
   "execution_count": 34,
   "metadata": {},
   "outputs": [],
   "source": [
    "source_paths = [anemic_path_list[:train_size_anemic],\n",
    "               anemic_path_list[train_size_anemic:],\n",
    "               non_anemic_path_list[:train_size_non_anemic],\n",
    "               non_anemic_path_list[train_size_non_anemic:]]\n",
    "\n",
    "destination_path = [\"./dataset/train/anemic/\",\n",
    "                    \"./dataset/valid/anemic/\",\n",
    "                    \"./dataset/train/non-anemic/\",\n",
    "                    \"./dataset/valid/non-anemic/\"]\n",
    "\n",
    "for i in range(len(destination_path)):\n",
    "    for source_path in source_paths[i]:\n",
    "        shutil.copy(source_path, destination_path[i])"
   ]
  },
  {
   "cell_type": "code",
   "execution_count": 38,
   "metadata": {},
   "outputs": [
    {
     "name": "stdout",
     "output_type": "stream",
     "text": [
      "OK\n",
      "OK\n"
     ]
    }
   ],
   "source": [
    "if train_size_anemic == len(os.listdir(destination_path[0])):\n",
    "    print(\"OK\")\n",
    "\n",
    "if train_size_non_anemic == len(os.listdir(destination_path[2])):\n",
    "    print(\"OK\")"
   ]
  }
 ],
 "metadata": {
  "kernelspec": {
   "display_name": "Python 3",
   "language": "python",
   "name": "python3"
  },
  "language_info": {
   "codemirror_mode": {
    "name": "ipython",
    "version": 3
   },
   "file_extension": ".py",
   "mimetype": "text/x-python",
   "name": "python",
   "nbconvert_exporter": "python",
   "pygments_lexer": "ipython3",
   "version": "3.9.6"
  }
 },
 "nbformat": 4,
 "nbformat_minor": 2
}
