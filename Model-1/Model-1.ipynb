{
 "cells": [
  {
   "cell_type": "code",
   "execution_count": null,
   "id": "5309d8c8-6c3e-44ad-9d3c-45b28f29516a",
   "metadata": {},
   "outputs": [],
   "source": [
    "import tensorflow as tf\n",
    "import numpy as np\n",
    "from tensorflow import keras\n",
    "import os\n",
    "import cv2\n",
    "from tensorflow.keras.preprocessing.image import ImageDataGenerator\n",
    "from tensorflow.keras.preprocessing import image\n",
    "from tensorflow.keras import Model\n",
    "import matplotlib.pyplot as plt\n",
    "import scipy\n",
    "import urllib.request\n",
    "from tensorflow.keras.applications.inception_v3 import InceptionV3\n",
    "from tensorflow.keras.optimizers import RMSprop"
   ]
  },
  {
   "cell_type": "code",
   "execution_count": null,
   "id": "43181f0d-558f-4483-abca-cc11b5431e23",
   "metadata": {},
   "outputs": [],
   "source": [
    "train = ImageDataGenerator(rescale = 1./255.)\n",
    "\n",
    "test = ImageDataGenerator(rescale = 1./255.)\n",
    "\n",
    "train_dataset = train.flow_from_directory(\"data/Train\",\n",
    "                                          target_size=(150,150),\n",
    "                                          batch_size = 10,\n",
    "                                          class_mode = 'binary')\n",
    "                                         \n",
    "test_dataset = test.flow_from_directory(\"data/Test\",\n",
    "                                      target_size=(150,150),\n",
    "                                      batch_size =10,\n",
    "                                      class_mode = 'binary')"
   ]
  },
  {
   "cell_type": "code",
   "execution_count": null,
   "id": "5ff5b6eb-6cee-44ba-b13d-f55c8f952893",
   "metadata": {},
   "outputs": [],
   "source": [
    "inceptionv3 = 'https://storage.googleapis.com/mledu-datasets/inception_v3_weights_tf_dim_ordering_tf_kernels_notop.h5'\n",
    "urllib.request.urlretrieve(\n",
    "    inceptionv3, 'inception_v3_weights_tf_dim_ordering_tf_kernels_notop.h5')\n",
    "local_weights_file = 'inception_v3_weights_tf_dim_ordering_tf_kernels_notop.h5'\n",
    "pre_trained_model = InceptionV3(input_shape=(150,150,3),include_top=False,weights=None)\n",
    "pre_trained_model.load_weights(local_weights_file)\n",
    "for layer in pre_trained_model.layers:\n",
    "  layer.trainable=False"
   ]
  },
  {
   "cell_type": "code",
   "execution_count": null,
   "id": "d64eaca7-93c0-4875-92a0-fc4493038b7a",
   "metadata": {},
   "outputs": [],
   "source": [
    "last_layer =  pre_trained_model.get_layer('mixed7')\n",
    "last_ouput = last_layer.output\n",
    "x = keras.layers.Flatten()(last_ouput)\n",
    "x = keras.layers.Dense(512, activation='relu')(x)\n",
    "x = keras.layers.Dropout(0.2)(x)\n",
    "x = keras.layers.Dense(1, activation='sigmoid')(x)"
   ]
  },
  {
   "cell_type": "code",
   "execution_count": null,
   "id": "63a507b7-ef8a-4ee5-8e7a-8f75ebe7238b",
   "metadata": {},
   "outputs": [],
   "source": [
    "model = Model(pre_trained_model.input, x)\n",
    "\n",
    "model.compile(optimizer=RMSprop(learning_rate=0.0001),\n",
    "              loss='binary_crossentropy',\n",
    "              metrics=['acc'])\n",
    "\n",
    "model.fit(train_dataset,\n",
    "    epochs=15,\n",
    "    validation_data=test_dataset,\n",
    ")"
   ]
  },
  {
   "cell_type": "code",
   "execution_count": null,
   "id": "8a8c7fb6-b49b-451e-9cb6-43f8de8c1d5b",
   "metadata": {},
   "outputs": [],
   "source": [
    "def predictImage(filename):\n",
    "    img1 = image.load_img(filename,target_size=(150,150))\n",
    "    \n",
    "    plt.imshow(img1)\n",
    " \n",
    "    Y = image.img_to_array(img1)\n",
    "    \n",
    "    X = np.expand_dims(Y,axis=0)\n",
    "    value_predicted = model.predict(X)\n",
    "    print(value_predicted)\n",
    "    if value_predicted == 0:\n",
    "        plt.xlabel(\"Anemia\",fontsize=30)\n",
    "    else:\n",
    "        plt.xlabel(\"NonAnemia\",fontsize=30)"
   ]
  },
  {
   "cell_type": "code",
   "execution_count": null,
   "id": "d21976f4-775b-4125-a99d-af880ddd9177",
   "metadata": {},
   "outputs": [],
   "source": [
    "# predictImage(r\"\")"
   ]
  },
  {
   "cell_type": "code",
   "execution_count": null,
   "id": "597c738b-7065-40e7-b96a-2f84364f30c1",
   "metadata": {},
   "outputs": [],
   "source": [
    "model.summary()"
   ]
  },
  {
   "cell_type": "code",
   "execution_count": null,
   "id": "f41d318b-199d-4acd-ae3b-3200276e1708",
   "metadata": {},
   "outputs": [],
   "source": [
    "# model.save(\"model.h5\")"
   ]
  },
  {
   "cell_type": "code",
   "execution_count": null,
   "id": "110f2f48-672a-4f93-b46e-a8f7a49a1e13",
   "metadata": {},
   "outputs": [],
   "source": []
  }
 ],
 "metadata": {
  "kernelspec": {
   "display_name": "Python 3 (ipykernel)",
   "language": "python",
   "name": "python3"
  },
  "language_info": {
   "codemirror_mode": {
    "name": "ipython",
    "version": 3
   },
   "file_extension": ".py",
   "mimetype": "text/x-python",
   "name": "python",
   "nbconvert_exporter": "python",
   "pygments_lexer": "ipython3",
   "version": "3.9.18"
  }
 },
 "nbformat": 4,
 "nbformat_minor": 5
}
