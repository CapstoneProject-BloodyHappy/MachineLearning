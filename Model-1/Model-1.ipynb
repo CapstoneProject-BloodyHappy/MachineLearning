{
 "cells": [
  {
   "cell_type": "code",
   "execution_count": 1,
   "id": "5309d8c8-6c3e-44ad-9d3c-45b28f29516a",
   "metadata": {},
   "outputs": [
    {
     "name": "stdout",
     "output_type": "stream",
     "text": [
      "WARNING:tensorflow:From C:\\Users\\Yoseph Alexander\\.conda\\envs\\capstone\\lib\\site-packages\\keras\\src\\losses.py:2976: The name tf.losses.sparse_softmax_cross_entropy is deprecated. Please use tf.compat.v1.losses.sparse_softmax_cross_entropy instead.\n",
      "\n"
     ]
    }
   ],
   "source": [
    "import tensorflow as tf\n",
    "import numpy as np\n",
    "from tensorflow import keras\n",
    "import os\n",
    "import cv2\n",
    "from tensorflow.keras.preprocessing.image import ImageDataGenerator\n",
    "from tensorflow.keras.preprocessing import image\n",
    "from tensorflow.keras import Model\n",
    "import matplotlib.pyplot as plt\n",
    "import scipy\n",
    "import urllib.request\n",
    "from tensorflow.keras.applications.inception_v3 import InceptionV3\n",
    "from tensorflow.keras.optimizers import RMSprop"
   ]
  },
  {
   "cell_type": "code",
   "execution_count": 4,
   "id": "43181f0d-558f-4483-abca-cc11b5431e23",
   "metadata": {},
   "outputs": [
    {
     "name": "stdout",
     "output_type": "stream",
     "text": [
      "Found 146 images belonging to 2 classes.\n",
      "Found 36 images belonging to 2 classes.\n"
     ]
    }
   ],
   "source": [
    "train = ImageDataGenerator(rescale = 1./255.)\n",
    "\n",
    "test = ImageDataGenerator(rescale = 1./255.)\n",
    "\n",
    "train_dataset = train.flow_from_directory(\"data/Train\",\n",
    "                                          target_size=(150,150),\n",
    "                                          batch_size = 10,\n",
    "                                          class_mode = 'binary')\n",
    "                                         \n",
    "test_dataset = test.flow_from_directory(\"data/Test\",\n",
    "                                      target_size=(150,150),\n",
    "                                      batch_size =10,\n",
    "                                      class_mode = 'binary')"
   ]
  },
  {
   "cell_type": "code",
   "execution_count": 3,
   "id": "5ff5b6eb-6cee-44ba-b13d-f55c8f952893",
   "metadata": {},
   "outputs": [
    {
     "name": "stdout",
     "output_type": "stream",
     "text": [
      "WARNING:tensorflow:From C:\\Users\\Yoseph Alexander\\.conda\\envs\\capstone\\lib\\site-packages\\keras\\src\\backend.py:1398: The name tf.executing_eagerly_outside_functions is deprecated. Please use tf.compat.v1.executing_eagerly_outside_functions instead.\n",
      "\n",
      "WARNING:tensorflow:From C:\\Users\\Yoseph Alexander\\.conda\\envs\\capstone\\lib\\site-packages\\keras\\src\\layers\\normalization\\batch_normalization.py:979: The name tf.nn.fused_batch_norm is deprecated. Please use tf.compat.v1.nn.fused_batch_norm instead.\n",
      "\n"
     ]
    }
   ],
   "source": [
    "# inceptionv3 = 'https://storage.googleapis.com/mledu-datasets/inception_v3_weights_tf_dim_ordering_tf_kernels_notop.h5'\n",
    "# urllib.request.urlretrieve(\n",
    "#     inceptionv3, 'inception_v3_weights_tf_dim_ordering_tf_kernels_notop.h5')\n",
    "# local_weights_file = 'inception_v3_weights_tf_dim_ordering_tf_kernels_notop.h5'\n",
    "# pre_trained_model = InceptionV3(input_shape=(150,150,3),include_top=False,weights=None)\n",
    "# pre_trained_model.load_weights(local_weights_file)\n",
    "# for layer in pre_trained_model.layers:\n",
    "#   layer.trainable=False"
   ]
  },
  {
   "cell_type": "code",
   "execution_count": 5,
   "id": "d64eaca7-93c0-4875-92a0-fc4493038b7a",
   "metadata": {},
   "outputs": [],
   "source": [
    "# last_layer =  pre_trained_model.get_layer('mixed7')\n",
    "# last_ouput = last_layer.output\n",
    "# x = keras.layers.Flatten()(last_ouput)\n",
    "# x = keras.layers.Dense(512, activation='relu')(x)\n",
    "# x = keras.layers.Dropout(0.2)(x)\n",
    "# x = keras.layers.Dense(1, activation='sigmoid')(x)"
   ]
  },
  {
   "cell_type": "code",
   "execution_count": 6,
   "id": "63a507b7-ef8a-4ee5-8e7a-8f75ebe7238b",
   "metadata": {},
   "outputs": [],
   "source": [
    "# model = Model(pre_trained_model.input, x)\n",
    "\n",
    "# model.compile(optimizer=RMSprop(learning_rate=0.0001),\n",
    "#               loss='binary_crossentropy',\n",
    "#               metrics=['acc'])\n",
    "\n",
    "# model.fit(train_dataset,\n",
    "#     epochs=15,\n",
    "#     validation_data=test_dataset,\n",
    "# )"
   ]
  },
  {
   "cell_type": "code",
   "execution_count": 7,
   "id": "90058604-d138-4d0f-8a7c-aa55151cd4ee",
   "metadata": {},
   "outputs": [
    {
     "name": "stdout",
     "output_type": "stream",
     "text": [
      "WARNING:tensorflow:From C:\\Users\\Yoseph Alexander\\.conda\\envs\\capstone\\lib\\site-packages\\keras\\src\\backend.py:873: The name tf.get_default_graph is deprecated. Please use tf.compat.v1.get_default_graph instead.\n",
      "\n",
      "WARNING:tensorflow:From C:\\Users\\Yoseph Alexander\\.conda\\envs\\capstone\\lib\\site-packages\\keras\\src\\layers\\pooling\\max_pooling2d.py:161: The name tf.nn.max_pool is deprecated. Please use tf.nn.max_pool2d instead.\n",
      "\n"
     ]
    }
   ],
   "source": [
    "model = keras.Sequential()\n",
    "\n",
    "# Convolutional layer and maxpool layer 1\n",
    "model.add(keras.layers.Conv2D(32,(3,3),activation='relu',input_shape=(150,150,3)))\n",
    "model.add(keras.layers.MaxPool2D(2,2))\n",
    "\n",
    "# Convolutional layer and maxpool layer 2\n",
    "model.add(keras.layers.Conv2D(64,(3,3),activation='relu'))\n",
    "model.add(keras.layers.MaxPool2D(2,2))\n",
    "\n",
    "# Convolutional layer and maxpool layer 3\n",
    "model.add(keras.layers.Conv2D(128,(3,3),activation='relu'))\n",
    "model.add(keras.layers.MaxPool2D(2,2))\n",
    "\n",
    "# Convolutional layer and maxpool layer 4\n",
    "model.add(keras.layers.Conv2D(128,(3,3),activation='relu'))\n",
    "model.add(keras.layers.MaxPool2D(2,2))\n",
    "\n",
    "model.add(keras.layers.Flatten())\n",
    "\n",
    "# Hidden layer with 512 neurons and Rectified Linear Unit activation function \n",
    "model.add(keras.layers.Dense(512,activation='relu'))\n",
    "\n",
    "# Output layer with single neuron which gives 0 for Anemia or 1 for NonAnemia \n",
    "model.add(keras.layers.Dense(1,activation='sigmoid'))"
   ]
  },
  {
   "cell_type": "code",
   "execution_count": 8,
   "id": "c9ca17d7-5fc8-47cf-accb-a82cfb97ce6d",
   "metadata": {},
   "outputs": [
    {
     "name": "stdout",
     "output_type": "stream",
     "text": [
      "WARNING:tensorflow:From C:\\Users\\Yoseph Alexander\\.conda\\envs\\capstone\\lib\\site-packages\\keras\\src\\optimizers\\__init__.py:309: The name tf.train.Optimizer is deprecated. Please use tf.compat.v1.train.Optimizer instead.\n",
      "\n"
     ]
    }
   ],
   "source": [
    "model.compile(optimizer='adam',loss='binary_crossentropy',metrics=['accuracy'])"
   ]
  },
  {
   "cell_type": "code",
   "execution_count": 9,
   "id": "a7bfed61-7b7f-4096-bcff-6b517561aa6b",
   "metadata": {},
   "outputs": [
    {
     "name": "stdout",
     "output_type": "stream",
     "text": [
      "Epoch 1/15\n",
      "WARNING:tensorflow:From C:\\Users\\Yoseph Alexander\\.conda\\envs\\capstone\\lib\\site-packages\\keras\\src\\utils\\tf_utils.py:492: The name tf.ragged.RaggedTensorValue is deprecated. Please use tf.compat.v1.ragged.RaggedTensorValue instead.\n",
      "\n",
      "WARNING:tensorflow:From C:\\Users\\Yoseph Alexander\\.conda\\envs\\capstone\\lib\\site-packages\\keras\\src\\engine\\base_layer_utils.py:384: The name tf.executing_eagerly_outside_functions is deprecated. Please use tf.compat.v1.executing_eagerly_outside_functions instead.\n",
      "\n",
      "15/15 [==============================] - 4s 119ms/step - loss: 0.4972 - accuracy: 0.7945 - val_loss: 0.0792 - val_accuracy: 1.0000\n",
      "Epoch 2/15\n",
      "15/15 [==============================] - 1s 92ms/step - loss: 0.0375 - accuracy: 1.0000 - val_loss: 0.0308 - val_accuracy: 1.0000\n",
      "Epoch 3/15\n",
      "15/15 [==============================] - 1s 86ms/step - loss: 0.0799 - accuracy: 0.9726 - val_loss: 0.0140 - val_accuracy: 1.0000\n",
      "Epoch 4/15\n",
      "15/15 [==============================] - 1s 87ms/step - loss: 0.0064 - accuracy: 1.0000 - val_loss: 0.0086 - val_accuracy: 1.0000\n",
      "Epoch 5/15\n",
      "15/15 [==============================] - 1s 89ms/step - loss: 0.0013 - accuracy: 1.0000 - val_loss: 0.0227 - val_accuracy: 0.9722\n",
      "Epoch 6/15\n",
      "15/15 [==============================] - 2s 103ms/step - loss: 3.0192e-04 - accuracy: 1.0000 - val_loss: 2.2559e-08 - val_accuracy: 1.0000\n",
      "Epoch 7/15\n",
      "15/15 [==============================] - 2s 100ms/step - loss: 1.8266e-07 - accuracy: 1.0000 - val_loss: 1.1225e-06 - val_accuracy: 1.0000\n",
      "Epoch 8/15\n",
      "15/15 [==============================] - 2s 104ms/step - loss: 2.9507e-06 - accuracy: 1.0000 - val_loss: 5.4634e-06 - val_accuracy: 1.0000\n",
      "Epoch 9/15\n",
      "15/15 [==============================] - 2s 102ms/step - loss: 4.8623e-06 - accuracy: 1.0000 - val_loss: 3.8926e-06 - val_accuracy: 1.0000\n",
      "Epoch 10/15\n",
      "15/15 [==============================] - 2s 99ms/step - loss: 2.8571e-06 - accuracy: 1.0000 - val_loss: 1.8989e-06 - val_accuracy: 1.0000\n",
      "Epoch 11/15\n",
      "15/15 [==============================] - 1s 96ms/step - loss: 1.4817e-06 - accuracy: 1.0000 - val_loss: 1.0346e-06 - val_accuracy: 1.0000\n",
      "Epoch 12/15\n",
      "15/15 [==============================] - 1s 98ms/step - loss: 7.7960e-07 - accuracy: 1.0000 - val_loss: 6.4363e-07 - val_accuracy: 1.0000\n",
      "Epoch 13/15\n",
      "15/15 [==============================] - 1s 92ms/step - loss: 4.8753e-07 - accuracy: 1.0000 - val_loss: 3.6043e-07 - val_accuracy: 1.0000\n",
      "Epoch 14/15\n",
      "15/15 [==============================] - 1s 93ms/step - loss: 3.3424e-07 - accuracy: 1.0000 - val_loss: 1.8254e-07 - val_accuracy: 1.0000\n",
      "Epoch 15/15\n",
      "15/15 [==============================] - 1s 89ms/step - loss: 1.9157e-07 - accuracy: 1.0000 - val_loss: 1.1302e-07 - val_accuracy: 1.0000\n"
     ]
    },
    {
     "data": {
      "text/plain": [
       "<keras.src.callbacks.History at 0x1fb8eea17c0>"
      ]
     },
     "execution_count": 9,
     "metadata": {},
     "output_type": "execute_result"
    }
   ],
   "source": [
    "model.fit(train_dataset,\n",
    "     epochs = 15,\n",
    "     validation_data = test_dataset       \n",
    ")"
   ]
  },
  {
   "cell_type": "code",
   "execution_count": 10,
   "id": "8a8c7fb6-b49b-451e-9cb6-43f8de8c1d5b",
   "metadata": {},
   "outputs": [],
   "source": [
    "def predictImage(filename):\n",
    "    img1 = image.load_img(filename,target_size=(150,150))\n",
    "    \n",
    "    plt.imshow(img1)\n",
    " \n",
    "    Y = image.img_to_array(img1)\n",
    "    \n",
    "    X = np.expand_dims(Y,axis=0)\n",
    "    value_predicted = model.predict(X)\n",
    "    print(value_predicted)\n",
    "    if value_predicted >= 0.5:\n",
    "        plt.xlabel(\"NonAnemia\",fontsize=30)\n",
    "    else:\n",
    "        plt.xlabel(\"Anemia\",fontsize=30)"
   ]
  },
  {
   "cell_type": "code",
   "execution_count": 12,
   "id": "d21976f4-775b-4125-a99d-af880ddd9177",
   "metadata": {},
   "outputs": [],
   "source": [
    "# predictImage(r\"\")"
   ]
  },
  {
   "cell_type": "code",
   "execution_count": 13,
   "id": "597c738b-7065-40e7-b96a-2f84364f30c1",
   "metadata": {},
   "outputs": [
    {
     "name": "stdout",
     "output_type": "stream",
     "text": [
      "Model: \"sequential\"\n",
      "_________________________________________________________________\n",
      " Layer (type)                Output Shape              Param #   \n",
      "=================================================================\n",
      " conv2d (Conv2D)             (None, 148, 148, 32)      896       \n",
      "                                                                 \n",
      " max_pooling2d (MaxPooling2  (None, 74, 74, 32)        0         \n",
      " D)                                                              \n",
      "                                                                 \n",
      " conv2d_1 (Conv2D)           (None, 72, 72, 64)        18496     \n",
      "                                                                 \n",
      " max_pooling2d_1 (MaxPoolin  (None, 36, 36, 64)        0         \n",
      " g2D)                                                            \n",
      "                                                                 \n",
      " conv2d_2 (Conv2D)           (None, 34, 34, 128)       73856     \n",
      "                                                                 \n",
      " max_pooling2d_2 (MaxPoolin  (None, 17, 17, 128)       0         \n",
      " g2D)                                                            \n",
      "                                                                 \n",
      " conv2d_3 (Conv2D)           (None, 15, 15, 128)       147584    \n",
      "                                                                 \n",
      " max_pooling2d_3 (MaxPoolin  (None, 7, 7, 128)         0         \n",
      " g2D)                                                            \n",
      "                                                                 \n",
      " flatten (Flatten)           (None, 6272)              0         \n",
      "                                                                 \n",
      " dense (Dense)               (None, 512)               3211776   \n",
      "                                                                 \n",
      " dense_1 (Dense)             (None, 1)                 513       \n",
      "                                                                 \n",
      "=================================================================\n",
      "Total params: 3453121 (13.17 MB)\n",
      "Trainable params: 3453121 (13.17 MB)\n",
      "Non-trainable params: 0 (0.00 Byte)\n",
      "_________________________________________________________________\n"
     ]
    }
   ],
   "source": [
    "model.summary()"
   ]
  },
  {
   "cell_type": "code",
   "execution_count": 12,
   "id": "f41d318b-199d-4acd-ae3b-3200276e1708",
   "metadata": {},
   "outputs": [],
   "source": [
    "# model.save(\"model.h5\")"
   ]
  }
 ],
 "metadata": {
  "kernelspec": {
   "display_name": "Python 3 (ipykernel)",
   "language": "python",
   "name": "python3"
  },
  "language_info": {
   "codemirror_mode": {
    "name": "ipython",
    "version": 3
   },
   "file_extension": ".py",
   "mimetype": "text/x-python",
   "name": "python",
   "nbconvert_exporter": "python",
   "pygments_lexer": "ipython3",
   "version": "3.9.18"
  }
 },
 "nbformat": 4,
 "nbformat_minor": 5
}
